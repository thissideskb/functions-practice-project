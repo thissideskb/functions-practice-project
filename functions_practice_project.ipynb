{
  "nbformat": 4,
  "nbformat_minor": 0,
  "metadata": {
    "colab": {
      "provenance": []
    },
    "kernelspec": {
      "name": "python3",
      "display_name": "Python 3"
    },
    "language_info": {
      "name": "python"
    }
  },
  "cells": [
    {
      "cell_type": "markdown",
      "source": [
        "Functions 1"
      ],
      "metadata": {
        "id": "x5l1Bdga9uVk"
      }
    },
    {
      "cell_type": "code",
      "source": [
        "# 1. What is the difference between a function and a method in Python?\n",
        "\n",
        "'''\n",
        "Function: A function is a block of code that is defined using the def keyword. It can be called independently and is not associated with any object.\n",
        "\n",
        "Method: A method is a function that is bound to an object (or class). It is called using the object or class name and operates on that object.\n",
        "\n",
        "'''"
      ],
      "metadata": {
        "colab": {
          "base_uri": "https://localhost:8080/",
          "height": 53
        },
        "id": "-OcdXIajB733",
        "outputId": "6bd806cb-6fde-4692-ffd7-3a5e10169fe7"
      },
      "execution_count": 13,
      "outputs": [
        {
          "output_type": "execute_result",
          "data": {
            "text/plain": [
              "'\\nFunction: A function is a block of code that is defined using the def keyword. It can be called independently and is not associated with any object.\\n\\nMethod: A method is a function that is bound to an object (or class). It is called using the object or class name and operates on that object.\\n\\n'"
            ],
            "application/vnd.google.colaboratory.intrinsic+json": {
              "type": "string"
            }
          },
          "metadata": {},
          "execution_count": 13
        }
      ]
    },
    {
      "cell_type": "code",
      "source": [
        "# 2. Explain the concept of function arguments and parameters in Python.\n",
        "\n",
        "'''\n",
        "In Python, functions can take inputs defined as parameters. When the function is called, actual values are passed into these parameters, known as arguments.\n",
        "\n",
        "-Parameters: The variables defined in the function signature.\n",
        "-Arguments: The actual values passed when the function is called.\n",
        "\n",
        "Types of arguments:\n",
        "\n",
        "-Positional Arguments: Passed in the same order as parameters.\n",
        "-Keyword Arguments: Passed using parameter names.\n",
        "-Default Arguments: Parameters that have default values.\n",
        "-Variable-Length Arguments: *args for non-keyword arguments and **kwargs for keyword arguments.\n",
        "\n",
        "'''"
      ],
      "metadata": {
        "colab": {
          "base_uri": "https://localhost:8080/",
          "height": 88
        },
        "id": "vYUk2R2kDnFa",
        "outputId": "eafd5504-71bb-4fe1-9019-b686aff8f41b"
      },
      "execution_count": 14,
      "outputs": [
        {
          "output_type": "execute_result",
          "data": {
            "text/plain": [
              "'\\nIn Python, functions can take inputs defined as parameters. When the function is called, actual values are passed into these parameters, known as arguments.\\n\\n-Parameters: The variables defined in the function signature.\\n-Arguments: The actual values passed when the function is called.\\n\\nTypes of arguments:\\n\\n-Positional Arguments: Passed in the same order as parameters.\\n-Keyword Arguments: Passed using parameter names.\\n-Default Arguments: Parameters that have default values.\\n-Variable-Length Arguments: *args for non-keyword arguments and **kwargs for keyword arguments.\\n\\n'"
            ],
            "application/vnd.google.colaboratory.intrinsic+json": {
              "type": "string"
            }
          },
          "metadata": {},
          "execution_count": 14
        }
      ]
    },
    {
      "cell_type": "code",
      "source": [
        "# 3.  What are the different ways to define and call a function in Python?\n",
        "## answer\n",
        "# defining a function: using the def key\n",
        "# example:\n",
        "\n",
        "def my_function():\n",
        "    print(\"Hello, World!\")\n",
        "\n",
        "# Calling a function: Using the function name followed by parentheses.\n",
        "\n",
        "my_function()\n",
        "\n",
        "# Lambda function: For small, anonymous functions, you can define them with lambda.\n",
        "\n",
        "add = lambda x, y: x + y\n",
        "print(add(2, 3))\n"
      ],
      "metadata": {
        "colab": {
          "base_uri": "https://localhost:8080/"
        },
        "id": "hW5nvqhPEhy4",
        "outputId": "3cc01594-e9f2-4c11-e72c-280e54b68e5a"
      },
      "execution_count": 17,
      "outputs": [
        {
          "output_type": "stream",
          "name": "stdout",
          "text": [
            "Hello, World!\n",
            "5\n"
          ]
        }
      ]
    },
    {
      "cell_type": "code",
      "source": [
        "# 4. What is the purpose of the return statement in a Python function?\n",
        "\n",
        "'''\n",
        "The return statement is used to exit a function and pass a value back to the caller. It allows the function to output data, which can be used later.\n",
        "'''\n",
        "\n",
        "def add(x, y):\n",
        "    return x + y\n",
        "\n",
        "result = add(5, 3)  # result will be 8"
      ],
      "metadata": {
        "id": "Id6EVGE0E98O"
      },
      "execution_count": 18,
      "outputs": []
    },
    {
      "cell_type": "code",
      "source": [
        "# 5. What are iterators in Python and how do they differ from iterables?\n",
        "\n",
        "'''\n",
        "-Iterable: An object that can return an iterator. Examples include lists, strings, etc.\n",
        "-Iterator: An object that produces items from an iterable one at a time and keeps track of the current state.\n",
        "\n",
        "Iterators must implement two methods:\n",
        "\n",
        "-__iter__() to return the iterator object itself.\n",
        "-__next__() to return the next value.\n",
        "'''"
      ],
      "metadata": {
        "colab": {
          "base_uri": "https://localhost:8080/",
          "height": 53
        },
        "id": "M_txbO7BFx8Q",
        "outputId": "7348815e-be95-4aa7-fc0b-e3aa401da7b8"
      },
      "execution_count": 20,
      "outputs": [
        {
          "output_type": "execute_result",
          "data": {
            "text/plain": [
              "'\\n-Iterable: An object that can return an iterator. Examples include lists, strings, etc.\\n-Iterator: An object that produces items from an iterable one at a time and keeps track of the current state.\\n\\nIterators must implement two methods:\\n\\n-__iter__() to return the iterator object itself.\\n-__next__() to return the next value.\\n'"
            ],
            "application/vnd.google.colaboratory.intrinsic+json": {
              "type": "string"
            }
          },
          "metadata": {},
          "execution_count": 20
        }
      ]
    },
    {
      "cell_type": "code",
      "source": [
        "# 6. Explain the concept of generators in Python and how they are defined.\n",
        "\n",
        "'''\n",
        "A generator is a type of iterator that is defined using a function and the yield keyword instead of return. Generators produce values lazily and are memory efficient.\n",
        "'''\n",
        "\n",
        "def count_up_to(n):\n",
        "    count = 1\n",
        "    while count <= n:\n",
        "        yield count\n",
        "        count += 1"
      ],
      "metadata": {
        "id": "OmT3zZLUGGrY"
      },
      "execution_count": 21,
      "outputs": []
    },
    {
      "cell_type": "code",
      "source": [
        "# 7. What are the advantages of using generators over regular functions?\n",
        "\n",
        "'''\n",
        "-Memory Efficiency: Generators generate values one by one and do not store them in memory.\n",
        "-Lazy Evaluation: Values are computed on demand.\n",
        "'''"
      ],
      "metadata": {
        "colab": {
          "base_uri": "https://localhost:8080/",
          "height": 36
        },
        "id": "-Tbh53mpGXrU",
        "outputId": "78899d6d-7f7b-45f0-e5af-dec26a0f3ba6"
      },
      "execution_count": 22,
      "outputs": [
        {
          "output_type": "execute_result",
          "data": {
            "text/plain": [
              "'\\n-Memory Efficiency: Generators generate values one by one and do not store them in memory.\\n-Lazy Evaluation: Values are computed on demand.\\n'"
            ],
            "application/vnd.google.colaboratory.intrinsic+json": {
              "type": "string"
            }
          },
          "metadata": {},
          "execution_count": 22
        }
      ]
    },
    {
      "cell_type": "code",
      "source": [
        "# 8. What is a lambda function in Python and when is it typically used?\n",
        "\n",
        "'''\n",
        "A lambda function is an anonymous function defined using the lambda keyword. It is typically used for short, simple operations that can be written in a single line.\n",
        "'''\n",
        "# example\n",
        "\n",
        "add = lambda x, y: x + y\n",
        "result = add(2, 3)\n",
        "\n"
      ],
      "metadata": {
        "id": "tFUYrgnWGzoe"
      },
      "execution_count": 23,
      "outputs": []
    },
    {
      "cell_type": "code",
      "source": [
        "# 9. Explain the purpose and usage of the map() function in Python.\n",
        "\n",
        "'''\n",
        "The map() function applies a given function to each item of an iterable and returns an iterator.\n",
        "'''\n",
        "# example\n",
        "\n",
        "numbers = [1, 2, 3, 4]\n",
        "squared = map(lambda x: x ** 2, numbers)\n",
        "print(list(squared))  # Output: [1, 4, 9, 16]"
      ],
      "metadata": {
        "colab": {
          "base_uri": "https://localhost:8080/"
        },
        "id": "a3YBiNiCLomU",
        "outputId": "69d3506d-d482-4090-8b5a-fdac9329dd2a"
      },
      "execution_count": 24,
      "outputs": [
        {
          "output_type": "stream",
          "name": "stdout",
          "text": [
            "[1, 4, 9, 16]\n"
          ]
        }
      ]
    },
    {
      "cell_type": "code",
      "source": [
        "# 10. What is the difference between map(), reduce(), and filter() functions in Python?\n",
        "\n",
        "'''\n",
        "-map(): Applies a function to all items in an iterable and returns an iterator.\n",
        "-reduce(): Reduces an iterable to a single value by applying a function cumulatively (requires from functools import reduce).\n",
        "-filter(): Filters an iterable by applying a function that returns a boolean value, keeping only those items that return True.\n",
        "'''"
      ],
      "metadata": {
        "colab": {
          "base_uri": "https://localhost:8080/",
          "height": 53
        },
        "id": "R9He_c4aL386",
        "outputId": "2e1c905c-45da-4ef9-c885-4fb511b6817e"
      },
      "execution_count": 25,
      "outputs": [
        {
          "output_type": "execute_result",
          "data": {
            "text/plain": [
              "'\\n-map(): Applies a function to all items in an iterable and returns an iterator.\\n-reduce(): Reduces an iterable to a single value by applying a function cumulatively (requires from functools import reduce).\\n-filter(): Filters an iterable by applying a function that returns a boolean value, keeping only those items that return True.\\n'"
            ],
            "application/vnd.google.colaboratory.intrinsic+json": {
              "type": "string"
            }
          },
          "metadata": {},
          "execution_count": 25
        }
      ]
    },
    {
      "cell_type": "markdown",
      "source": [
        "Practical Answers"
      ],
      "metadata": {
        "id": "VRmC5EIVMK1_"
      }
    },
    {
      "cell_type": "code",
      "source": [
        "# 1.Write a Python function that takes a list of numbers as input and returns the sum of all even numbers in the list.\n",
        "\n",
        "def sum_even_numbers(numbers):\n",
        "    return sum(num for num in numbers if num % 2 == 0)"
      ],
      "metadata": {
        "id": "wa9WYA0QMFNu"
      },
      "execution_count": 27,
      "outputs": []
    },
    {
      "cell_type": "code",
      "source": [
        "# 2.Create a Python function that accepts a string and returns the reverse of that string.\n",
        "\n",
        "def reverse_string(s):\n",
        "    return s[::-1]\n"
      ],
      "metadata": {
        "id": "ct_ibgecMcMQ"
      },
      "execution_count": 28,
      "outputs": []
    },
    {
      "cell_type": "code",
      "source": [
        "# 3.Implement a Python function that takes a list of integers and returns a new list containing the squares of each number.\n",
        "\n",
        "def square_numbers(numbers):\n",
        "    return [num ** 2 for num in numbers]"
      ],
      "metadata": {
        "id": "_aWT7j_ZMlC-"
      },
      "execution_count": 30,
      "outputs": []
    },
    {
      "cell_type": "code",
      "source": [
        "# 4.Write a Python function that checks if a given number is prime or not from 1 to 200.\n",
        "\n",
        "def is_prime(n):\n",
        "    if n < 2:\n",
        "        return False\n",
        "    for i in range(2, int(n ** 0.5) + 1):\n",
        "        if n % i == 0:\n",
        "            return False\n",
        "    return True\n"
      ],
      "metadata": {
        "id": "Wis5VNldMqrR"
      },
      "execution_count": 31,
      "outputs": []
    },
    {
      "cell_type": "code",
      "source": [
        "# 5.Create an iterator class in Python that generates the Fibonacci sequence up to a specified number of terms.\n",
        "\n",
        "class FibonacciIterator:\n",
        "    def __init__(self, n):\n",
        "        self.n = n\n",
        "        self.a, self.b = 0, 1\n",
        "        self.count = 0\n",
        "\n",
        "    def __iter__(self):\n",
        "        return self\n",
        "\n",
        "    def __next__(self):\n",
        "        if self.count < self.n:\n",
        "            result = self.a\n",
        "            self.a, self.b = self.b, self.a + self.b\n",
        "            self.count += 1\n",
        "            return result\n",
        "        else:\n",
        "            raise StopIteration"
      ],
      "metadata": {
        "id": "PVMoRGmyM2wD"
      },
      "execution_count": 32,
      "outputs": []
    },
    {
      "cell_type": "code",
      "source": [
        "# 6.Write a generator function in Python that yields the powers of 2 up to a given exponent.\n",
        "\n",
        "def powers_of_two(exponent):\n",
        "    for i in range(exponent + 1):\n",
        "        yield 2 ** i"
      ],
      "metadata": {
        "id": "bR4TCvo7M8dA"
      },
      "execution_count": 33,
      "outputs": []
    },
    {
      "cell_type": "code",
      "source": [
        "# 7.Implement a generator function that reads a file line by line and yields each line as a string.\n",
        "\n",
        "def read_file_line_by_line(filename):\n",
        "    with open(filename, 'r') as file:\n",
        "        for line in file:\n",
        "            yield line.strip()"
      ],
      "metadata": {
        "id": "A4wyQ_eZNBmL"
      },
      "execution_count": 34,
      "outputs": []
    },
    {
      "cell_type": "code",
      "source": [
        "# 8.Use a lambda function in Python to sort a list of tuples based on the second element of each tuple.\n",
        "\n",
        "data = [(1, 'apple'), (2, 'orange'), (3, 'banana')]\n",
        "data_sorted = sorted(data, key=lambda x: x[1])"
      ],
      "metadata": {
        "id": "fFwsc2W_NKBl"
      },
      "execution_count": 35,
      "outputs": []
    },
    {
      "cell_type": "code",
      "source": [
        "# 8.Write a Python program that uses map() to convert a list of temperatures from Celsius to Fahrenheit.\n",
        "\n",
        "celsius = [0, 25, 30, 40]\n",
        "fahrenheit = list(map(lambda x: (x * 9/5) + 32, celsius))"
      ],
      "metadata": {
        "id": "TY_l4x7YNPK1"
      },
      "execution_count": 36,
      "outputs": []
    },
    {
      "cell_type": "code",
      "source": [
        "# 9.Create a Python program that uses filter() to remove all the vowels from a given string.\n",
        "\n",
        "def remove_vowels(s):\n",
        "    return ''.join(filter(lambda x: x not in 'aeiouAEIOU', s))"
      ],
      "metadata": {
        "id": "wfNyl7KvNTrI"
      },
      "execution_count": 37,
      "outputs": []
    },
    {
      "cell_type": "code",
      "source": [
        "'''\n",
        "Write a Python program, which returns a list with 2-tuples.\n",
        "Each tuple consists of the order number and the product of the price per item and the quantity.\n",
        "The product should be increased by 10,- € if the value of the order is smaller than 100,00 €.\n",
        "'''\n",
        "\n",
        "orders = [[1, 'book', 5, 15.0], [2, 'pen', 3, 1.5], [3, 'notebook', 10, 5.0]]\n",
        "result = [(order[0], order[2] * order[3] + (10 if order[2] * order[3] < 100 else 0)) for order in orders]\n",
        "print(result)"
      ],
      "metadata": {
        "colab": {
          "base_uri": "https://localhost:8080/"
        },
        "id": "TaGNsEuUNYuy",
        "outputId": "0c4fd385-bd5d-47e3-f8ec-5214b1b77e46"
      },
      "execution_count": 38,
      "outputs": [
        {
          "output_type": "stream",
          "name": "stdout",
          "text": [
            "[(1, 85.0), (2, 14.5), (3, 60.0)]\n"
          ]
        }
      ]
    },
    {
      "cell_type": "code",
      "source": [],
      "metadata": {
        "id": "Fim_7nLlNqZj"
      },
      "execution_count": null,
      "outputs": []
    }
  ]
}